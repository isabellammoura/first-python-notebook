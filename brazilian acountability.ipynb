{
 "cells": [
  {
   "cell_type": "code",
   "execution_count": 3,
   "metadata": {
    "collapsed": true
   },
   "outputs": [],
   "source": [
    "import pandas as pd"
   ]
  },
  {
   "cell_type": "code",
   "execution_count": 5,
   "metadata": {},
   "outputs": [],
   "source": [
    "spends_AC = pd.read_csv(\"/Users/Buda/Downloads/prestacao_contas_final_2016/despesas_candidatos_prestacao_contas_final_2016_AC.txt\", sep=\";\", encoding = \"latin_1\")"
   ]
  },
  {
   "cell_type": "code",
   "execution_count": 8,
   "metadata": {},
   "outputs": [
    {
     "name": "stdout",
     "output_type": "stream",
     "text": [
      "<class 'pandas.core.frame.DataFrame'>\n",
      "RangeIndex: 17961 entries, 0 to 17960\n",
      "Data columns (total 25 columns):\n",
      "Cód. Eleição                            17961 non-null int64\n",
      "Desc. Eleição                           17961 non-null object\n",
      "Data e hora                             17961 non-null object\n",
      "CNPJ Prestador Conta                    17961 non-null int64\n",
      "Sequencial Candidato                    17961 non-null int64\n",
      "UF                                      17961 non-null object\n",
      "Sigla da UE                             17961 non-null int64\n",
      "Nome da UE                              17961 non-null object\n",
      "Sigla  Partido                          17961 non-null object\n",
      "Número candidato                        17961 non-null int64\n",
      "Cargo                                   17961 non-null object\n",
      "Nome candidato                          17961 non-null object\n",
      "CPF do candidato                        17961 non-null int64\n",
      "CPF do vice/suplente                    17961 non-null object\n",
      "Tipo de documento                       17961 non-null object\n",
      "Número do documento                     17961 non-null object\n",
      "CPF/CNPJ do fornecedor                  17961 non-null object\n",
      "Nome do fornecedor                      17961 non-null object\n",
      "Nome do fornecedor (Receita Federal)    17961 non-null object\n",
      "Cod setor econômico do fornecedor       17961 non-null object\n",
      "Setor econômico do fornecedor           17961 non-null object\n",
      "Data da despesa                         17961 non-null object\n",
      "Valor despesa                           17961 non-null object\n",
      "Tipo despesa                            17961 non-null object\n",
      "Descriçao da despesa                    17961 non-null object\n",
      "dtypes: int64(6), object(19)\n",
      "memory usage: 2.1+ MB\n"
     ]
    }
   ],
   "source": [
    "spends_AC.info()"
   ]
  },
  {
   "cell_type": "code",
   "execution_count": null,
   "metadata": {
    "collapsed": true
   },
   "outputs": [],
   "source": []
  }
 ],
 "metadata": {
  "kernelspec": {
   "display_name": "Python 3",
   "language": "python",
   "name": "python3"
  },
  "language_info": {
   "codemirror_mode": {
    "name": "ipython",
    "version": 3
   },
   "file_extension": ".py",
   "mimetype": "text/x-python",
   "name": "python",
   "nbconvert_exporter": "python",
   "pygments_lexer": "ipython3",
   "version": "3.5.2"
  }
 },
 "nbformat": 4,
 "nbformat_minor": 2
}
