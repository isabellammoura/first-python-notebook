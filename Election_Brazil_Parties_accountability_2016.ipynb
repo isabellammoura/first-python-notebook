{
 "cells": [
  {
   "cell_type": "markdown",
   "metadata": {},
   "source": [
    "## Revenue and Expenses by parties in 2016 Brazil's Election"
   ]
  },
  {
   "cell_type": "markdown",
   "metadata": {},
   "source": [
    "This is a sample notebook I did as an activity for Python for Data Journalists MOOC."
   ]
  },
  {
   "cell_type": "code",
   "execution_count": 31,
   "metadata": {
    "collapsed": true
   },
   "outputs": [],
   "source": [
    "import pandas as pd"
   ]
  },
  {
   "cell_type": "code",
   "execution_count": 32,
   "metadata": {
    "collapsed": true
   },
   "outputs": [],
   "source": [
    "%matplotlib inline"
   ]
  },
  {
   "cell_type": "markdown",
   "metadata": {},
   "source": [
    "Import the Revenue and Expends data indicating separator, encoding and decimal (as I could notice the default is \".\", but in Brazil we generally use \",\" as a decimal separator). \n",
    "The data about Expends is large, so I had to use \"low_memory=False\" although I think it's not the best way to do it."
   ]
  },
  {
   "cell_type": "code",
   "execution_count": 33,
   "metadata": {
    "collapsed": true
   },
   "outputs": [],
   "source": [
    "revenues_parties = pd.read_csv(\"/Users/Buda/Downloads/prestacao_contas_final_2016/receitas_partidos_prestacao_contas_final_2016_brasil.txt\", sep=\";\", encoding = \"latin_1\", decimal = \",\")"
   ]
  },
  {
   "cell_type": "code",
   "execution_count": 34,
   "metadata": {
    "collapsed": true
   },
   "outputs": [],
   "source": [
    "spends_parties = pd.read_csv(\"/Users/Buda/Downloads/prestacao_contas_final_2016/despesas_partidos_prestacao_contas_final_2016_brasil.txt\", sep=\";\", encoding = \"latin_1\", low_memory = False, decimal =\",\")"
   ]
  },
  {
   "cell_type": "markdown",
   "metadata": {},
   "source": [
    "The database I'm using is a little bit confusing. I had to rename all the columns because there was space between the names.\n",
    "So reset a value for \"spends_parties\", now called just \"spends\", used the pandas object \".rename\" to change the name of the columns. The same for the revenues."
   ]
  },
  {
   "cell_type": "code",
   "execution_count": 35,
   "metadata": {
    "collapsed": true
   },
   "outputs": [],
   "source": [
    "spends = spends_parties.rename(columns={\"Cód. Eleição\": \"Cod_eleicao\", \"Desc. Eleição\": \"Desc_eleicao\", \"Data e hora\": \"Data_hora\", \"CNPJ Prestador Conta\": \"CNPJ_Prestador_Conta\", \"Sequencial do Prestador de conta\": \"Sequencial_Prestador_conta\", \"Sigla da UE\": \"Sigla_UE\", \"Nome da UE\": \"Nome_UE\", \"Tipo diretorio\": \"Tipo_diretorio\", \"Sigla  Partido\": \"Partido\", \"Tipo do documento\": \"Tipo_documento\", \"Número do documento\": \"Num_documento\", \"CPF/CNPJ do fornecedor\": \"CPF_CNPJ_fornecedor\", \"Nome do fornecedor\": \"Nome_fornecedor\", \"Nome do fornecedor (Receita Federal)\": \"Nome_fornecedor_Receita_Federal\", \"Cod setor econômico do fornecedor\": \"Cod_setor_econômico_fornecedor\", \"Data da despesa\": \"Data_despesa\", \"Valor despesa\": \"Valor_despesa\", \"Tipo despesa\": \"Tipo_despesa\", \"Descrição da despesa\": \"Descrição_despesa\" })"
   ]
  },
  {
   "cell_type": "code",
   "execution_count": 36,
   "metadata": {
    "collapsed": true
   },
   "outputs": [],
   "source": [
    "revenues = revenues_parties.rename(columns={\"Cód. Eleição\": \"Cod_eleicao\", \"Desc. Eleição\": \"Desc_eleicao\", \"Data e hora\": \"Data_hora\", \"CNPJ Prestador Conta\": \"CNPJ_Prestador_Conta\", \"Sequencial do Prestador de conta\": \"Sequencial_Prestador_conta\", \"Sigla da UE\": \"Sigla_UE\", \"Nome da UE\": \"Nome_UE\", \"Tipo diretorio\": \"Tipo_diretorio\", \"Sigla  Partido\": \"Partido\", \"Número recibo eleitoral\": \"Num_recibo_eleitoral\", \"Número do documento\": \"Num_documento\", \"CPF/CNPJ do doador\": \"CPF_CNPJ_doador\", \"Nome do doador\": \"Nome_doador\", \"Nome do doador (Receita Federal)\": \"Nome_doador_Receita_Federal\", \"Sigla UE doador\": \"UE_doador\", \"Número partido doador\": \"Número_partido_doador\", \"Cod setor econômico do doador\": \"Cod_setor_econômico_doador\",\"Setor econômico do doador\": \"Setor_econômico_doador\", \"Data da receita\": \"Data_receita\", \"Valor receita\": \"Valor_receita\", \"Tipo receita\": \"Tipo_receita\", \"Fonte recurso\": \"Fonte_recurso\", \"Espécie recurso\": \"Espécie_recurso\", \"Descrição da receita\": \"Descrição_receita\", \"CPF/CNPJ do doador originário\": \"CPF_CNPJ_doador_originário\", \"Nome do doador originário\": \"Nome_doador_originário\", \"Tipo doador originário\": \"Tipo_doador_originário\", \"Setor econômico do doador originário\": \"Setor_econômico_doador_originário\", \"Nome do doador originário (Receita Federal)\": \"Nome_doador_originário_Receita_Federal\"})"
   ]
  },
  {
   "cell_type": "markdown",
   "metadata": {},
   "source": [
    "Now I sum all the values each party spent:"
   ]
  },
  {
   "cell_type": "code",
   "execution_count": 37,
   "metadata": {
    "collapsed": true
   },
   "outputs": [],
   "source": [
    "spendsbyparties = spends.groupby(\"Partido\")[\"Valor_despesa\"].sum()"
   ]
  },
  {
   "cell_type": "markdown",
   "metadata": {},
   "source": [
    "Afeter doing that my variable isn't a DataFrame anymore. It's a Series. So I have to turn it into a DatatFrame again:"
   ]
  },
  {
   "cell_type": "code",
   "execution_count": 38,
   "metadata": {
    "collapsed": true
   },
   "outputs": [],
   "source": [
    "spendsbyparties = pd.DataFrame({\"Partido\":spendsbyparties.index, \"Valor_despesa\":spendsbyparties.values})"
   ]
  },
  {
   "cell_type": "markdown",
   "metadata": {},
   "source": [
    "Repeat the process for the revenues data:"
   ]
  },
  {
   "cell_type": "code",
   "execution_count": 39,
   "metadata": {
    "collapsed": true
   },
   "outputs": [],
   "source": [
    "revenuesbyparties = revenues.groupby(\"Partido\")[\"Valor_receita\"].sum()"
   ]
  },
  {
   "cell_type": "code",
   "execution_count": 40,
   "metadata": {
    "collapsed": true
   },
   "outputs": [],
   "source": [
    "revenuesbyparties = pd.DataFrame({\"Partido\":revenuesbyparties.index, \"Valor_receita\":revenuesbyparties.values})"
   ]
  },
  {
   "cell_type": "markdown",
   "metadata": {},
   "source": [
    "Now I want to merge the two DataFrames. It's possible because they have two columns in common:"
   ]
  },
  {
   "cell_type": "code",
   "execution_count": 41,
   "metadata": {
    "collapsed": true
   },
   "outputs": [],
   "source": [
    "merged = pd.merge(revenuesbyparties, spendsbyparties, on=\"Partido\")"
   ]
  },
  {
   "cell_type": "markdown",
   "metadata": {},
   "source": [
    "Now I'm subtracting Spends from Revenues to see the balance and creating a new column called \"Saldo\"(balance):"
   ]
  },
  {
   "cell_type": "code",
   "execution_count": 42,
   "metadata": {},
   "outputs": [],
   "source": [
    "merged['Saldo'] = merged['Valor_receita'] - merged['Valor_despesa']"
   ]
  },
  {
   "cell_type": "code",
   "execution_count": 43,
   "metadata": {},
   "outputs": [
    {
     "name": "stdout",
     "output_type": "stream",
     "text": [
      "<class 'pandas.core.frame.DataFrame'>\n",
      "Int64Index: 34 entries, 0 to 33\n",
      "Data columns (total 4 columns):\n",
      "Partido          34 non-null object\n",
      "Valor_receita    34 non-null float64\n",
      "Valor_despesa    34 non-null float64\n",
      "Saldo            34 non-null float64\n",
      "dtypes: float64(3), object(1)\n",
      "memory usage: 1.2+ KB\n"
     ]
    }
   ],
   "source": [
    "merged.info()"
   ]
  },
  {
   "cell_type": "markdown",
   "metadata": {},
   "source": [
    "Sorting values to see which party received more, spent more, had the best and worst balances:"
   ]
  },
  {
   "cell_type": "code",
   "execution_count": 46,
   "metadata": {
    "collapsed": true
   },
   "outputs": [],
   "source": [
    "top_revenues = merged.sort_values(\"Valor_receita\", ascending=False).head(5)"
   ]
  },
  {
   "cell_type": "code",
   "execution_count": 47,
   "metadata": {},
   "outputs": [
    {
     "data": {
      "text/html": [
       "<div>\n",
       "<style>\n",
       "    .dataframe thead tr:only-child th {\n",
       "        text-align: right;\n",
       "    }\n",
       "\n",
       "    .dataframe thead th {\n",
       "        text-align: left;\n",
       "    }\n",
       "\n",
       "    .dataframe tbody tr th {\n",
       "        vertical-align: top;\n",
       "    }\n",
       "</style>\n",
       "<table border=\"1\" class=\"dataframe\">\n",
       "  <thead>\n",
       "    <tr style=\"text-align: right;\">\n",
       "      <th></th>\n",
       "      <th>Partido</th>\n",
       "      <th>Valor_receita</th>\n",
       "      <th>Valor_despesa</th>\n",
       "      <th>Saldo</th>\n",
       "    </tr>\n",
       "  </thead>\n",
       "  <tbody>\n",
       "    <tr>\n",
       "      <th>8</th>\n",
       "      <td>PMDB</td>\n",
       "      <td>57630349.03</td>\n",
       "      <td>6.296035e+07</td>\n",
       "      <td>-5.330005e+06</td>\n",
       "    </tr>\n",
       "    <tr>\n",
       "      <th>10</th>\n",
       "      <td>PP</td>\n",
       "      <td>51744142.57</td>\n",
       "      <td>5.251818e+07</td>\n",
       "      <td>-7.740371e+05</td>\n",
       "    </tr>\n",
       "    <tr>\n",
       "      <th>21</th>\n",
       "      <td>PSDB</td>\n",
       "      <td>50189537.54</td>\n",
       "      <td>5.113937e+07</td>\n",
       "      <td>-9.498303e+05</td>\n",
       "    </tr>\n",
       "    <tr>\n",
       "      <th>20</th>\n",
       "      <td>PSD</td>\n",
       "      <td>45664565.98</td>\n",
       "      <td>4.392323e+07</td>\n",
       "      <td>1.741334e+06</td>\n",
       "    </tr>\n",
       "    <tr>\n",
       "      <th>18</th>\n",
       "      <td>PSB</td>\n",
       "      <td>38294736.44</td>\n",
       "      <td>4.344632e+07</td>\n",
       "      <td>-5.151583e+06</td>\n",
       "    </tr>\n",
       "  </tbody>\n",
       "</table>\n",
       "</div>"
      ],
      "text/plain": [
       "   Partido  Valor_receita  Valor_despesa         Saldo\n",
       "8     PMDB    57630349.03   6.296035e+07 -5.330005e+06\n",
       "10      PP    51744142.57   5.251818e+07 -7.740371e+05\n",
       "21    PSDB    50189537.54   5.113937e+07 -9.498303e+05\n",
       "20     PSD    45664565.98   4.392323e+07  1.741334e+06\n",
       "18     PSB    38294736.44   4.344632e+07 -5.151583e+06"
      ]
     },
     "execution_count": 47,
     "metadata": {},
     "output_type": "execute_result"
    }
   ],
   "source": [
    "top_revenues"
   ]
  },
  {
   "cell_type": "code",
   "execution_count": 48,
   "metadata": {
    "collapsed": true
   },
   "outputs": [],
   "source": [
    "top_spends = merged.sort_values(\"Valor_despesa\", ascending=False).head(5)"
   ]
  },
  {
   "cell_type": "code",
   "execution_count": 49,
   "metadata": {},
   "outputs": [
    {
     "data": {
      "text/html": [
       "<div>\n",
       "<style>\n",
       "    .dataframe thead tr:only-child th {\n",
       "        text-align: right;\n",
       "    }\n",
       "\n",
       "    .dataframe thead th {\n",
       "        text-align: left;\n",
       "    }\n",
       "\n",
       "    .dataframe tbody tr th {\n",
       "        vertical-align: top;\n",
       "    }\n",
       "</style>\n",
       "<table border=\"1\" class=\"dataframe\">\n",
       "  <thead>\n",
       "    <tr style=\"text-align: right;\">\n",
       "      <th></th>\n",
       "      <th>Partido</th>\n",
       "      <th>Valor_receita</th>\n",
       "      <th>Valor_despesa</th>\n",
       "      <th>Saldo</th>\n",
       "    </tr>\n",
       "  </thead>\n",
       "  <tbody>\n",
       "    <tr>\n",
       "      <th>8</th>\n",
       "      <td>PMDB</td>\n",
       "      <td>57630349.03</td>\n",
       "      <td>6.296035e+07</td>\n",
       "      <td>-5.330005e+06</td>\n",
       "    </tr>\n",
       "    <tr>\n",
       "      <th>10</th>\n",
       "      <td>PP</td>\n",
       "      <td>51744142.57</td>\n",
       "      <td>5.251818e+07</td>\n",
       "      <td>-7.740371e+05</td>\n",
       "    </tr>\n",
       "    <tr>\n",
       "      <th>21</th>\n",
       "      <td>PSDB</td>\n",
       "      <td>50189537.54</td>\n",
       "      <td>5.113937e+07</td>\n",
       "      <td>-9.498303e+05</td>\n",
       "    </tr>\n",
       "    <tr>\n",
       "      <th>20</th>\n",
       "      <td>PSD</td>\n",
       "      <td>45664565.98</td>\n",
       "      <td>4.392323e+07</td>\n",
       "      <td>1.741334e+06</td>\n",
       "    </tr>\n",
       "    <tr>\n",
       "      <th>18</th>\n",
       "      <td>PSB</td>\n",
       "      <td>38294736.44</td>\n",
       "      <td>4.344632e+07</td>\n",
       "      <td>-5.151583e+06</td>\n",
       "    </tr>\n",
       "  </tbody>\n",
       "</table>\n",
       "</div>"
      ],
      "text/plain": [
       "   Partido  Valor_receita  Valor_despesa         Saldo\n",
       "8     PMDB    57630349.03   6.296035e+07 -5.330005e+06\n",
       "10      PP    51744142.57   5.251818e+07 -7.740371e+05\n",
       "21    PSDB    50189537.54   5.113937e+07 -9.498303e+05\n",
       "20     PSD    45664565.98   4.392323e+07  1.741334e+06\n",
       "18     PSB    38294736.44   4.344632e+07 -5.151583e+06"
      ]
     },
     "execution_count": 49,
     "metadata": {},
     "output_type": "execute_result"
    }
   ],
   "source": [
    "top_spends"
   ]
  },
  {
   "cell_type": "code",
   "execution_count": 50,
   "metadata": {},
   "outputs": [],
   "source": [
    "top_balance = merged.sort_values(\"Saldo\", ascending=False).head(5)"
   ]
  },
  {
   "cell_type": "code",
   "execution_count": null,
   "metadata": {
    "collapsed": true
   },
   "outputs": [],
   "source": [
    "top_balance"
   ]
  },
  {
   "cell_type": "code",
   "execution_count": 52,
   "metadata": {
    "collapsed": true
   },
   "outputs": [],
   "source": [
    "top_debt = merged.sort_values(\"Saldo\").head(5)"
   ]
  },
  {
   "cell_type": "code",
   "execution_count": 53,
   "metadata": {},
   "outputs": [
    {
     "data": {
      "text/html": [
       "<div>\n",
       "<style>\n",
       "    .dataframe thead tr:only-child th {\n",
       "        text-align: right;\n",
       "    }\n",
       "\n",
       "    .dataframe thead th {\n",
       "        text-align: left;\n",
       "    }\n",
       "\n",
       "    .dataframe tbody tr th {\n",
       "        vertical-align: top;\n",
       "    }\n",
       "</style>\n",
       "<table border=\"1\" class=\"dataframe\">\n",
       "  <thead>\n",
       "    <tr style=\"text-align: right;\">\n",
       "      <th></th>\n",
       "      <th>Partido</th>\n",
       "      <th>Valor_receita</th>\n",
       "      <th>Valor_despesa</th>\n",
       "      <th>Saldo</th>\n",
       "    </tr>\n",
       "  </thead>\n",
       "  <tbody>\n",
       "    <tr>\n",
       "      <th>8</th>\n",
       "      <td>PMDB</td>\n",
       "      <td>57630349.03</td>\n",
       "      <td>6.296035e+07</td>\n",
       "      <td>-5.330005e+06</td>\n",
       "    </tr>\n",
       "    <tr>\n",
       "      <th>18</th>\n",
       "      <td>PSB</td>\n",
       "      <td>38294736.44</td>\n",
       "      <td>4.344632e+07</td>\n",
       "      <td>-5.151583e+06</td>\n",
       "    </tr>\n",
       "    <tr>\n",
       "      <th>4</th>\n",
       "      <td>PDT</td>\n",
       "      <td>11433157.28</td>\n",
       "      <td>1.527539e+07</td>\n",
       "      <td>-3.842232e+06</td>\n",
       "    </tr>\n",
       "    <tr>\n",
       "      <th>27</th>\n",
       "      <td>PT do B</td>\n",
       "      <td>8361288.65</td>\n",
       "      <td>1.141865e+07</td>\n",
       "      <td>-3.057362e+06</td>\n",
       "    </tr>\n",
       "    <tr>\n",
       "      <th>5</th>\n",
       "      <td>PEN</td>\n",
       "      <td>6552524.99</td>\n",
       "      <td>8.991227e+06</td>\n",
       "      <td>-2.438702e+06</td>\n",
       "    </tr>\n",
       "  </tbody>\n",
       "</table>\n",
       "</div>"
      ],
      "text/plain": [
       "    Partido  Valor_receita  Valor_despesa         Saldo\n",
       "8      PMDB    57630349.03   6.296035e+07 -5.330005e+06\n",
       "18      PSB    38294736.44   4.344632e+07 -5.151583e+06\n",
       "4       PDT    11433157.28   1.527539e+07 -3.842232e+06\n",
       "27  PT do B     8361288.65   1.141865e+07 -3.057362e+06\n",
       "5       PEN     6552524.99   8.991227e+06 -2.438702e+06"
      ]
     },
     "execution_count": 53,
     "metadata": {},
     "output_type": "execute_result"
    }
   ],
   "source": [
    "top_debt"
   ]
  },
  {
   "cell_type": "markdown",
   "metadata": {},
   "source": [
    "Creating charts with matplotlib:"
   ]
  },
  {
   "cell_type": "code",
   "execution_count": 62,
   "metadata": {},
   "outputs": [
    {
     "data": {
      "text/plain": [
       "[<matplotlib.text.Text at 0x8f4c090>,\n",
       " <matplotlib.text.Text at 0x8f6a650>,\n",
       " <matplotlib.text.Text at 0x8f3e5f0>,\n",
       " <matplotlib.text.Text at 0x8f301f0>,\n",
       " <matplotlib.text.Text at 0x8f30790>]"
      ]
     },
     "execution_count": 62,
     "metadata": {},
     "output_type": "execute_result"
    },
    {
     "data": {
      "image/png": "[encoded data removed]",
      "text/plain": [
       "<matplotlib.figure.Figure at 0xa4085b0>"
      ]
     },
     "metadata": {},
     "output_type": "display_data"
    }
   ],
   "source": [
    "chart = top_revenues.Valor_receita.plot.barh()\n",
    "chart.set_yticklabels(top_revenues.Partido)"
   ]
  },
  {
   "cell_type": "markdown",
   "metadata": {},
   "source": [
    "Import \"merged\" to csv:"
   ]
  },
  {
   "cell_type": "code",
   "execution_count": 63,
   "metadata": {
    "collapsed": true
   },
   "outputs": [],
   "source": [
    "merged.to_csv(\"Contabilidade_partidos_Eleicoes_2016\")"
   ]
  }
 ],
 "metadata": {
  "kernelspec": {
   "display_name": "Python 3",
   "language": "python",
   "name": "python3"
  },
  "language_info": {
   "codemirror_mode": {
    "name": "ipython",
    "version": 3
   },
   "file_extension": ".py",
   "mimetype": "text/x-python",
   "name": "python",
   "nbconvert_exporter": "python",
   "pygments_lexer": "ipython3",
   "version": "3.5.2"
  }
 },
 "nbformat": 4,
 "nbformat_minor": 2
}
