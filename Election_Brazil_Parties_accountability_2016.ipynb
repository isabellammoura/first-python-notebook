{
 "cells": [
  {
   "cell_type": "code",
   "execution_count": 1,
   "metadata": {
    "collapsed": true
   },
   "outputs": [],
   "source": [
    "import pandas as pd"
   ]
  },
  {
   "cell_type": "code",
   "execution_count": 9,
   "metadata": {
    "collapsed": true
   },
   "outputs": [],
   "source": [
    "recepies_parties = pd.read_csv(\"/Users/Buda/Downloads/prestacao_contas_final_2016/receitas_partidos_prestacao_contas_final_2016_brasil.txt\", sep=\";\", encoding = \"latin_1\")"
   ]
  },
  {
   "cell_type": "code",
   "execution_count": 15,
   "metadata": {},
   "outputs": [],
   "source": [
    "spends_parties = pd.read_csv(\"/Users/Buda/Downloads/prestacao_contas_final_2016/despesas_partidos_prestacao_contas_final_2016_brasil.txt\", sep=\";\", encoding = \"latin_1\", low_memory = False)"
   ]
  },
  {
   "cell_type": "code",
   "execution_count": 23,
   "metadata": {},
   "outputs": [],
   "source": [
    "spends_parties = spends_parties.rename(columns={\"Cód. Eleição\": \"Cod_eleicao\", \"Desc. Eleição\": \"Desc_eleicao\", \"Data e hora\": \"Data_hora\", \"CNPJ Prestador Conta\": \"CNPJ_Prestador_Conta\", \"Sequencial do Prestador de conta\": \"Sequencial_Prestador_conta\", \"Sigla da UE\": \"Sigla_UE\", \"Nome da UE\": \"Nome_UE\", \"Tipo diretorio\": \"Tipo_diretorio\", \"Sigla  Partido\": \"Partido\", \"Tipo do documento\": \"Tipo_documento\", \"Número do documento\": \"Num_documento\", \"CPF/CNPJ do fornecedor\": \"CPF_CNPJ_fornecedor\", \"Nome do fornecedor\": \"Nome_fornecedor\", \"Nome do fornecedor (Receita Federal)\": \"Nome_fornecedor_Receita_Federal\", \"Cod setor econômico do fornecedor\": \"Cod_setor_econômico_fornecedor\", \"Data da despesa\": \"Data_despesa\", \"Valor despesa\": \"Valor_despesa\", \"Tipo despesa\": \"Tipo_despesa\", \"Descrição da despesa\": \"Descrição_despesa\" })"
   ]
  },
  {
   "cell_type": "code",
   "execution_count": 24,
   "metadata": {},
   "outputs": [],
   "source": [
    "recepies_parties = recepies_parties.rename(columns={\"Cód. Eleição\": \"Cod_eleicao\", \"Desc. Eleição\": \"Desc_eleicao\", \"Data e hora\": \"Data_hora\", \"CNPJ Prestador Conta\": \"CNPJ_Prestador_Conta\", \"Sequencial do Prestador de conta\": \"Sequencial_Prestador_conta\", \"Sigla da UE\": \"Sigla_UE\", \"Nome da UE\": \"Nome_UE\", \"Tipo diretorio\": \"Tipo_diretorio\", \"Sigla  Partido\": \"Partido\", \"Número recibo eleitoral\": \"Num_recibo_eleitoral\", \"Número do documento\": \"Num_documento\", \"CPF/CNPJ do doador\": \"CPF_CNPJ_doador\", \"Nome do doador\": \"Nome_doador\", \"Nome do doador (Receita Federal)\": \"Nome_doador_Receita_Federal\", \"Sigla UE doador\": \"UE_doador\", \"Número partido doador\": \"Número_partido_doador\", \"Cod setor econômico do doador\": \"Cod_setor_econômico_doador\",\"Setor econômico do doador\": \"Setor_econômico_doador\", \"Data da receita\": \"Data_receita\", \"Valor receita\": \"Valor_receita\", \"Tipo receita\": \"Tipo_receita\", \"Fonte recurso\": \"Fonte_recurso\", \"Espécie recurso\": \"Espécie_recurso\", \"Descrição da receita\": \"Descrição_receita\", \"CPF/CNPJ do doador originário\": \"CPF_CNPJ_doador_originário\", \"Nome do doador originário\": \"Nome_doador_originário\", \"Tipo doador originário\": \"Tipo_doador_originário\", \"Setor econômico do doador originário\": \"Setor_econômico_doador_originário\", \"Nome do doador originário (Receita Federal)\": \"Nome_doador_originário_Receita_Federal\"})"
   ]
  },
  {
   "cell_type": "code",
   "execution_count": null,
   "metadata": {
    "collapsed": true
   },
   "outputs": [],
   "source": []
  }
 ],
 "metadata": {
  "kernelspec": {
   "display_name": "Python 3",
   "language": "python",
   "name": "python3"
  },
  "language_info": {
   "codemirror_mode": {
    "name": "ipython",
    "version": 3
   },
   "file_extension": ".py",
   "mimetype": "text/x-python",
   "name": "python",
   "nbconvert_exporter": "python",
   "pygments_lexer": "ipython3",
   "version": "3.5.2"
  }
 },
 "nbformat": 4,
 "nbformat_minor": 2
}
